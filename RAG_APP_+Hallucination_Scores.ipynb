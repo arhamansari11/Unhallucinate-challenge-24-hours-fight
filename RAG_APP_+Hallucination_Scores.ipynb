{
  "cells": [
    {
      "cell_type": "markdown",
      "source": [
        "##### LLMs are extremely powerful models, but they have a problem with data recency and hallucinations. To reduce this, we use vectara... Vectara provides an end-to-end managed service for Retrieval Augmented Generation or RAG.\n",
        "\n",
        "#####In this note book we made RAG based Q/A nutrition web app where user can ask question related to diet plan.. For this we use vectara alnog with langchain.\n",
        "\n",
        "\n",
        "\n"
      ],
      "metadata": {
        "id": "suaxkv7mf6ww"
      }
    },
    {
      "cell_type": "markdown",
      "metadata": {
        "id": "RPDPd7BBUuVl"
      },
      "source": [
        "\n",
        "#Installing required dependencies\n",
        "First we will install all the required extrnal libraries as given below:\n",
        "\n",
        "\n",
        "\n",
        "\n",
        "1.   <b> langchain:</b> LangChain is a framework that provides to connect language models with external data sources.\n",
        "2.   <b>pypdf</b>: a Python library for working with PDF files.\n",
        "3.   <b>Transformers:</b> library is a popular open-source library by Hugging Face that provides pre-trained models.\n",
        "4.   <b>entence-transformers:</b> sentence-transformers library is a Python package that allows you to easily use pre-trained sentence embeddings models\n",
        "\n",
        "\n",
        "<b>One thing to remember is that after installing libraries you have to restart the run time again so that other dependencies are not affected by it.</b>"
      ]
    },
    {
      "cell_type": "code",
      "execution_count": null,
      "metadata": {
        "colab": {
          "base_uri": "https://localhost:8080/"
        },
        "id": "W6LeWGamZWBc",
        "outputId": "b421c789-cb06-4a9d-88d0-b7b44db37651"
      },
      "outputs": [
        {
          "output_type": "stream",
          "name": "stdout",
          "text": [
            "Collecting langchain\n",
            "  Downloading langchain-0.1.6-py3-none-any.whl (811 kB)\n",
            "\u001b[2K     \u001b[90m━━━━━━━━━━━━━━━━━━━━━━━━━━━━━━━━━━━━━━━━\u001b[0m \u001b[32m811.8/811.8 kB\u001b[0m \u001b[31m9.0 MB/s\u001b[0m eta \u001b[36m0:00:00\u001b[0m\n",
            "\u001b[?25hRequirement already satisfied: PyYAML>=5.3 in /usr/local/lib/python3.10/dist-packages (from langchain) (6.0.1)\n",
            "Requirement already satisfied: SQLAlchemy<3,>=1.4 in /usr/local/lib/python3.10/dist-packages (from langchain) (2.0.25)\n",
            "Requirement already satisfied: aiohttp<4.0.0,>=3.8.3 in /usr/local/lib/python3.10/dist-packages (from langchain) (3.9.3)\n",
            "Requirement already satisfied: async-timeout<5.0.0,>=4.0.0 in /usr/local/lib/python3.10/dist-packages (from langchain) (4.0.3)\n",
            "Collecting dataclasses-json<0.7,>=0.5.7 (from langchain)\n",
            "  Downloading dataclasses_json-0.6.4-py3-none-any.whl (28 kB)\n",
            "Collecting jsonpatch<2.0,>=1.33 (from langchain)\n",
            "  Downloading jsonpatch-1.33-py2.py3-none-any.whl (12 kB)\n",
            "Collecting langchain-community<0.1,>=0.0.18 (from langchain)\n",
            "  Downloading langchain_community-0.0.19-py3-none-any.whl (1.6 MB)\n",
            "\u001b[2K     \u001b[90m━━━━━━━━━━━━━━━━━━━━━━━━━━━━━━━━━━━━━━━━\u001b[0m \u001b[32m1.6/1.6 MB\u001b[0m \u001b[31m18.1 MB/s\u001b[0m eta \u001b[36m0:00:00\u001b[0m\n",
            "\u001b[?25hCollecting langchain-core<0.2,>=0.1.22 (from langchain)\n",
            "  Downloading langchain_core-0.1.22-py3-none-any.whl (239 kB)\n",
            "\u001b[2K     \u001b[90m━━━━━━━━━━━━━━━━━━━━━━━━━━━━━━━━━━━━━━━━\u001b[0m \u001b[32m239.4/239.4 kB\u001b[0m \u001b[31m16.3 MB/s\u001b[0m eta \u001b[36m0:00:00\u001b[0m\n",
            "\u001b[?25hCollecting langsmith<0.1,>=0.0.83 (from langchain)\n",
            "  Downloading langsmith-0.0.90-py3-none-any.whl (55 kB)\n",
            "\u001b[2K     \u001b[90m━━━━━━━━━━━━━━━━━━━━━━━━━━━━━━━━━━━━━━━━\u001b[0m \u001b[32m55.7/55.7 kB\u001b[0m \u001b[31m7.3 MB/s\u001b[0m eta \u001b[36m0:00:00\u001b[0m\n",
            "\u001b[?25hRequirement already satisfied: numpy<2,>=1 in /usr/local/lib/python3.10/dist-packages (from langchain) (1.23.5)\n",
            "Requirement already satisfied: pydantic<3,>=1 in /usr/local/lib/python3.10/dist-packages (from langchain) (2.6.1)\n",
            "Requirement already satisfied: requests<3,>=2 in /usr/local/lib/python3.10/dist-packages (from langchain) (2.31.0)\n",
            "Requirement already satisfied: tenacity<9.0.0,>=8.1.0 in /usr/local/lib/python3.10/dist-packages (from langchain) (8.2.3)\n",
            "Requirement already satisfied: aiosignal>=1.1.2 in /usr/local/lib/python3.10/dist-packages (from aiohttp<4.0.0,>=3.8.3->langchain) (1.3.1)\n",
            "Requirement already satisfied: attrs>=17.3.0 in /usr/local/lib/python3.10/dist-packages (from aiohttp<4.0.0,>=3.8.3->langchain) (23.2.0)\n",
            "Requirement already satisfied: frozenlist>=1.1.1 in /usr/local/lib/python3.10/dist-packages (from aiohttp<4.0.0,>=3.8.3->langchain) (1.4.1)\n",
            "Requirement already satisfied: multidict<7.0,>=4.5 in /usr/local/lib/python3.10/dist-packages (from aiohttp<4.0.0,>=3.8.3->langchain) (6.0.5)\n",
            "Requirement already satisfied: yarl<2.0,>=1.0 in /usr/local/lib/python3.10/dist-packages (from aiohttp<4.0.0,>=3.8.3->langchain) (1.9.4)\n",
            "Collecting marshmallow<4.0.0,>=3.18.0 (from dataclasses-json<0.7,>=0.5.7->langchain)\n",
            "  Downloading marshmallow-3.20.2-py3-none-any.whl (49 kB)\n",
            "\u001b[2K     \u001b[90m━━━━━━━━━━━━━━━━━━━━━━━━━━━━━━━━━━━━━━━━\u001b[0m \u001b[32m49.4/49.4 kB\u001b[0m \u001b[31m6.2 MB/s\u001b[0m eta \u001b[36m0:00:00\u001b[0m\n",
            "\u001b[?25hCollecting typing-inspect<1,>=0.4.0 (from dataclasses-json<0.7,>=0.5.7->langchain)\n",
            "  Downloading typing_inspect-0.9.0-py3-none-any.whl (8.8 kB)\n",
            "Collecting jsonpointer>=1.9 (from jsonpatch<2.0,>=1.33->langchain)\n",
            "  Downloading jsonpointer-2.4-py2.py3-none-any.whl (7.8 kB)\n",
            "Requirement already satisfied: anyio<5,>=3 in /usr/local/lib/python3.10/dist-packages (from langchain-core<0.2,>=0.1.22->langchain) (3.7.1)\n",
            "Collecting langsmith<0.1,>=0.0.83 (from langchain)\n",
            "  Downloading langsmith-0.0.87-py3-none-any.whl (55 kB)\n",
            "\u001b[2K     \u001b[90m━━━━━━━━━━━━━━━━━━━━━━━━━━━━━━━━━━━━━━━━\u001b[0m \u001b[32m55.4/55.4 kB\u001b[0m \u001b[31m6.9 MB/s\u001b[0m eta \u001b[36m0:00:00\u001b[0m\n",
            "\u001b[?25hRequirement already satisfied: packaging<24.0,>=23.2 in /usr/local/lib/python3.10/dist-packages (from langchain-core<0.2,>=0.1.22->langchain) (23.2)\n",
            "Requirement already satisfied: annotated-types>=0.4.0 in /usr/local/lib/python3.10/dist-packages (from pydantic<3,>=1->langchain) (0.6.0)\n",
            "Requirement already satisfied: pydantic-core==2.16.2 in /usr/local/lib/python3.10/dist-packages (from pydantic<3,>=1->langchain) (2.16.2)\n",
            "Requirement already satisfied: typing-extensions>=4.6.1 in /usr/local/lib/python3.10/dist-packages (from pydantic<3,>=1->langchain) (4.9.0)\n",
            "Requirement already satisfied: charset-normalizer<4,>=2 in /usr/local/lib/python3.10/dist-packages (from requests<3,>=2->langchain) (3.3.2)\n",
            "Requirement already satisfied: idna<4,>=2.5 in /usr/local/lib/python3.10/dist-packages (from requests<3,>=2->langchain) (3.6)\n",
            "Requirement already satisfied: urllib3<3,>=1.21.1 in /usr/local/lib/python3.10/dist-packages (from requests<3,>=2->langchain) (2.0.7)\n",
            "Requirement already satisfied: certifi>=2017.4.17 in /usr/local/lib/python3.10/dist-packages (from requests<3,>=2->langchain) (2024.2.2)\n",
            "Requirement already satisfied: greenlet!=0.4.17 in /usr/local/lib/python3.10/dist-packages (from SQLAlchemy<3,>=1.4->langchain) (3.0.3)\n",
            "Requirement already satisfied: sniffio>=1.1 in /usr/local/lib/python3.10/dist-packages (from anyio<5,>=3->langchain-core<0.2,>=0.1.22->langchain) (1.3.0)\n",
            "Requirement already satisfied: exceptiongroup in /usr/local/lib/python3.10/dist-packages (from anyio<5,>=3->langchain-core<0.2,>=0.1.22->langchain) (1.2.0)\n",
            "Collecting mypy-extensions>=0.3.0 (from typing-inspect<1,>=0.4.0->dataclasses-json<0.7,>=0.5.7->langchain)\n",
            "  Downloading mypy_extensions-1.0.0-py3-none-any.whl (4.7 kB)\n",
            "Installing collected packages: mypy-extensions, marshmallow, jsonpointer, typing-inspect, jsonpatch, langsmith, dataclasses-json, langchain-core, langchain-community, langchain\n",
            "Successfully installed dataclasses-json-0.6.4 jsonpatch-1.33 jsonpointer-2.4 langchain-0.1.6 langchain-community-0.0.19 langchain-core-0.1.22 langsmith-0.0.87 marshmallow-3.20.2 mypy-extensions-1.0.0 typing-inspect-0.9.0\n",
            "Collecting pypdf\n",
            "  Downloading pypdf-4.0.1-py3-none-any.whl (283 kB)\n",
            "\u001b[2K     \u001b[90m━━━━━━━━━━━━━━━━━━━━━━━━━━━━━━━━━━━━━━━━\u001b[0m \u001b[32m284.0/284.0 kB\u001b[0m \u001b[31m6.4 MB/s\u001b[0m eta \u001b[36m0:00:00\u001b[0m\n",
            "\u001b[?25hInstalling collected packages: pypdf\n",
            "Successfully installed pypdf-4.0.1\n",
            "Requirement already satisfied: Transformers in /usr/local/lib/python3.10/dist-packages (4.35.2)\n",
            "Requirement already satisfied: filelock in /usr/local/lib/python3.10/dist-packages (from Transformers) (3.13.1)\n",
            "Requirement already satisfied: huggingface-hub<1.0,>=0.16.4 in /usr/local/lib/python3.10/dist-packages (from Transformers) (0.20.3)\n",
            "Requirement already satisfied: numpy>=1.17 in /usr/local/lib/python3.10/dist-packages (from Transformers) (1.23.5)\n",
            "Requirement already satisfied: packaging>=20.0 in /usr/local/lib/python3.10/dist-packages (from Transformers) (23.2)\n",
            "Requirement already satisfied: pyyaml>=5.1 in /usr/local/lib/python3.10/dist-packages (from Transformers) (6.0.1)\n",
            "Requirement already satisfied: regex!=2019.12.17 in /usr/local/lib/python3.10/dist-packages (from Transformers) (2023.12.25)\n",
            "Requirement already satisfied: requests in /usr/local/lib/python3.10/dist-packages (from Transformers) (2.31.0)\n",
            "Requirement already satisfied: tokenizers<0.19,>=0.14 in /usr/local/lib/python3.10/dist-packages (from Transformers) (0.15.1)\n",
            "Requirement already satisfied: safetensors>=0.3.1 in /usr/local/lib/python3.10/dist-packages (from Transformers) (0.4.2)\n",
            "Requirement already satisfied: tqdm>=4.27 in /usr/local/lib/python3.10/dist-packages (from Transformers) (4.66.1)\n",
            "Requirement already satisfied: fsspec>=2023.5.0 in /usr/local/lib/python3.10/dist-packages (from huggingface-hub<1.0,>=0.16.4->Transformers) (2023.6.0)\n",
            "Requirement already satisfied: typing-extensions>=3.7.4.3 in /usr/local/lib/python3.10/dist-packages (from huggingface-hub<1.0,>=0.16.4->Transformers) (4.9.0)\n",
            "Requirement already satisfied: charset-normalizer<4,>=2 in /usr/local/lib/python3.10/dist-packages (from requests->Transformers) (3.3.2)\n",
            "Requirement already satisfied: idna<4,>=2.5 in /usr/local/lib/python3.10/dist-packages (from requests->Transformers) (3.6)\n",
            "Requirement already satisfied: urllib3<3,>=1.21.1 in /usr/local/lib/python3.10/dist-packages (from requests->Transformers) (2.0.7)\n",
            "Requirement already satisfied: certifi>=2017.4.17 in /usr/local/lib/python3.10/dist-packages (from requests->Transformers) (2024.2.2)\n",
            "Collecting sentence-transformers\n",
            "  Downloading sentence_transformers-2.3.1-py3-none-any.whl (132 kB)\n",
            "\u001b[2K     \u001b[90m━━━━━━━━━━━━━━━━━━━━━━━━━━━━━━━━━━━━━━━━\u001b[0m \u001b[32m132.8/132.8 kB\u001b[0m \u001b[31m3.9 MB/s\u001b[0m eta \u001b[36m0:00:00\u001b[0m\n",
            "\u001b[?25hRequirement already satisfied: transformers<5.0.0,>=4.32.0 in /usr/local/lib/python3.10/dist-packages (from sentence-transformers) (4.35.2)\n",
            "Requirement already satisfied: tqdm in /usr/local/lib/python3.10/dist-packages (from sentence-transformers) (4.66.1)\n",
            "Requirement already satisfied: torch>=1.11.0 in /usr/local/lib/python3.10/dist-packages (from sentence-transformers) (2.1.0+cu121)\n",
            "Requirement already satisfied: numpy in /usr/local/lib/python3.10/dist-packages (from sentence-transformers) (1.23.5)\n",
            "Requirement already satisfied: scikit-learn in /usr/local/lib/python3.10/dist-packages (from sentence-transformers) (1.2.2)\n",
            "Requirement already satisfied: scipy in /usr/local/lib/python3.10/dist-packages (from sentence-transformers) (1.11.4)\n",
            "Requirement already satisfied: nltk in /usr/local/lib/python3.10/dist-packages (from sentence-transformers) (3.8.1)\n",
            "Requirement already satisfied: sentencepiece in /usr/local/lib/python3.10/dist-packages (from sentence-transformers) (0.1.99)\n",
            "Requirement already satisfied: huggingface-hub>=0.15.1 in /usr/local/lib/python3.10/dist-packages (from sentence-transformers) (0.20.3)\n",
            "Requirement already satisfied: Pillow in /usr/local/lib/python3.10/dist-packages (from sentence-transformers) (9.4.0)\n",
            "Requirement already satisfied: filelock in /usr/local/lib/python3.10/dist-packages (from huggingface-hub>=0.15.1->sentence-transformers) (3.13.1)\n",
            "Requirement already satisfied: fsspec>=2023.5.0 in /usr/local/lib/python3.10/dist-packages (from huggingface-hub>=0.15.1->sentence-transformers) (2023.6.0)\n",
            "Requirement already satisfied: requests in /usr/local/lib/python3.10/dist-packages (from huggingface-hub>=0.15.1->sentence-transformers) (2.31.0)\n",
            "Requirement already satisfied: pyyaml>=5.1 in /usr/local/lib/python3.10/dist-packages (from huggingface-hub>=0.15.1->sentence-transformers) (6.0.1)\n",
            "Requirement already satisfied: typing-extensions>=3.7.4.3 in /usr/local/lib/python3.10/dist-packages (from huggingface-hub>=0.15.1->sentence-transformers) (4.9.0)\n",
            "Requirement already satisfied: packaging>=20.9 in /usr/local/lib/python3.10/dist-packages (from huggingface-hub>=0.15.1->sentence-transformers) (23.2)\n",
            "Requirement already satisfied: sympy in /usr/local/lib/python3.10/dist-packages (from torch>=1.11.0->sentence-transformers) (1.12)\n",
            "Requirement already satisfied: networkx in /usr/local/lib/python3.10/dist-packages (from torch>=1.11.0->sentence-transformers) (3.2.1)\n",
            "Requirement already satisfied: jinja2 in /usr/local/lib/python3.10/dist-packages (from torch>=1.11.0->sentence-transformers) (3.1.3)\n",
            "Requirement already satisfied: triton==2.1.0 in /usr/local/lib/python3.10/dist-packages (from torch>=1.11.0->sentence-transformers) (2.1.0)\n",
            "Requirement already satisfied: regex!=2019.12.17 in /usr/local/lib/python3.10/dist-packages (from transformers<5.0.0,>=4.32.0->sentence-transformers) (2023.12.25)\n",
            "Requirement already satisfied: tokenizers<0.19,>=0.14 in /usr/local/lib/python3.10/dist-packages (from transformers<5.0.0,>=4.32.0->sentence-transformers) (0.15.1)\n",
            "Requirement already satisfied: safetensors>=0.3.1 in /usr/local/lib/python3.10/dist-packages (from transformers<5.0.0,>=4.32.0->sentence-transformers) (0.4.2)\n",
            "Requirement already satisfied: click in /usr/local/lib/python3.10/dist-packages (from nltk->sentence-transformers) (8.1.7)\n",
            "Requirement already satisfied: joblib in /usr/local/lib/python3.10/dist-packages (from nltk->sentence-transformers) (1.3.2)\n",
            "Requirement already satisfied: threadpoolctl>=2.0.0 in /usr/local/lib/python3.10/dist-packages (from scikit-learn->sentence-transformers) (3.2.0)\n",
            "Requirement already satisfied: MarkupSafe>=2.0 in /usr/local/lib/python3.10/dist-packages (from jinja2->torch>=1.11.0->sentence-transformers) (2.1.5)\n",
            "Requirement already satisfied: charset-normalizer<4,>=2 in /usr/local/lib/python3.10/dist-packages (from requests->huggingface-hub>=0.15.1->sentence-transformers) (3.3.2)\n",
            "Requirement already satisfied: idna<4,>=2.5 in /usr/local/lib/python3.10/dist-packages (from requests->huggingface-hub>=0.15.1->sentence-transformers) (3.6)\n",
            "Requirement already satisfied: urllib3<3,>=1.21.1 in /usr/local/lib/python3.10/dist-packages (from requests->huggingface-hub>=0.15.1->sentence-transformers) (2.0.7)\n",
            "Requirement already satisfied: certifi>=2017.4.17 in /usr/local/lib/python3.10/dist-packages (from requests->huggingface-hub>=0.15.1->sentence-transformers) (2024.2.2)\n",
            "Requirement already satisfied: mpmath>=0.19 in /usr/local/lib/python3.10/dist-packages (from sympy->torch>=1.11.0->sentence-transformers) (1.3.0)\n",
            "Installing collected packages: sentence-transformers\n",
            "Successfully installed sentence-transformers-2.3.1\n"
          ]
        }
      ],
      "source": [
        "!pip install langchain\n",
        "!pip install pypdf\n",
        "!pip install Transformers\n",
        "!pip install sentence-transformers"
      ]
    },
    {
      "cell_type": "markdown",
      "source": [
        "#Importing required dependencies"
      ],
      "metadata": {
        "id": "M44ybuxcu4iJ"
      }
    },
    {
      "cell_type": "code",
      "execution_count": null,
      "metadata": {
        "id": "enb4y1PmVJT2"
      },
      "outputs": [],
      "source": [
        "from langchain import HuggingFaceHub\n",
        "from transformers import AutoModelForCausalLM\n",
        "from langchain.embeddings import HuggingFaceEmbeddings\n",
        "from langchain.vectorstores import vectara\n",
        "from langchain.chains import RetrievalQA\n",
        "from langchain.prompts import PromptTemplate\n",
        "from langchain_community.vectorstores import Vectara\n",
        "from langchain.text_splitter import CharacterTextSplitter\n",
        "from langchain_community.document_loaders import DirectoryLoader, PyPDFLoader\n",
        "from langchain_community.embeddings.fake import FakeEmbeddings\n",
        "from getpass import getpass"
      ]
    },
    {
      "cell_type": "markdown",
      "source": [
        "#Vectara\n",
        "Vectara provides an end-to-end managed service for Retrieval Augmented Generation or RAG. To get started with Vectara, we went to https://console.vectara.com/signup or click Get Started Free at vectara.com. After we made an account,  create our first corpus and upload our document!. we extract three IDs after that:\n",
        "\n",
        "\n",
        "1.   Vectara Corpus ID\n",
        "2.   Vectara Customer ID\n",
        "3.   Vectara API-Key\n",
        "\n",
        "\n",
        "\n",
        "\n",
        "\n",
        "\n",
        "\n"
      ],
      "metadata": {
        "id": "KHMh5YcEwQa-"
      }
    },
    {
      "cell_type": "code",
      "execution_count": null,
      "metadata": {
        "id": "3jpZ0EJzyYrU"
      },
      "outputs": [],
      "source": [
        "#right here your actual vectra_corpus_id, vectra_customer_id,and vectra_API_Kay\n",
        "vectara_corpus_id = os.environ['VECTARA_CORPUS_ID']\n",
        "vectara_customer_id = os.environ['VECTARA_CUSTOMER_ID']\n",
        "vectara_api_key = os.environ['VECTARA_API_KEY']"
      ]
    },
    {
      "cell_type": "code",
      "execution_count": null,
      "metadata": {
        "id": "Q1oXGpxJUoZE"
      },
      "outputs": [],
      "source": [
        "\n",
        "import os\n",
        "os.environ['VECTARA_API_KEY'] = 'VECTARA_CORPUS_ID'\n",
        "os.environ['VECTARA_CORPUS_ID'] = 'VECTARA_CUSTOMER_ID'\n",
        "os.environ['VECTARA_CUSTOMER_ID']='VECTARA_API_KEY'"
      ]
    },
    {
      "cell_type": "markdown",
      "source": [
        "#Load Document:\n",
        "load the pdf document. We integrate the langchain with vectara ground generation to upload document and store in vectra store...  "
      ],
      "metadata": {
        "id": "PluhaC9x2Cj-"
      }
    },
    {
      "cell_type": "code",
      "execution_count": null,
      "metadata": {
        "id": "71j3uFml8FGf"
      },
      "outputs": [],
      "source": [
        "loader = DirectoryLoader(\"sample_data/folder\", glob = \"./*.pdf\", loader_cls = PyPDFLoader)\n",
        "documents = loader.load()\n",
        "text_splitter = CharacterTextSplitter(chunk_size=1000, chunk_overlap=0)\n",
        "docs = text_splitter.split_documents(documents)"
      ]
    },
    {
      "cell_type": "markdown",
      "source": [
        "###Large Language Mode (Mistral-7b)\n",
        "We use Mistaral LLM model from hugging-face..."
      ],
      "metadata": {
        "id": "XvhS4yNv0LZi"
      }
    },
    {
      "cell_type": "code",
      "execution_count": null,
      "metadata": {
        "colab": {
          "base_uri": "https://localhost:8080/"
        },
        "id": "sP2oDZcCe-6o",
        "outputId": "58d26541-9c61-40d4-dc93-69dd1d506a78"
      },
      "outputs": [
        {
          "name": "stdout",
          "output_type": "stream",
          "text": [
            "··········\n"
          ]
        }
      ],
      "source": [
        "HUGGINGFACEHUB_API_TOKEN = getpass()"
      ]
    },
    {
      "cell_type": "code",
      "source": [
        "os.environ[\"HUGGINGFACEHUB_API_TOKEN\"] = HUGGINGFACEHUB_API_TOKEN"
      ],
      "metadata": {
        "id": "UzZ7AAe51n1Y"
      },
      "execution_count": null,
      "outputs": []
    },
    {
      "cell_type": "code",
      "execution_count": null,
      "metadata": {
        "id": "TaTwzXcwa0hX"
      },
      "outputs": [],
      "source": [
        "repo_id = \"mistralai/Mistral-7B-Instruct-v0.2\"\n",
        "llm = HuggingFaceHub(repo_id = repo_id, model_kwargs= {\"temperature\": 0.5, \"max_length\": 10000,\"max_new_tokens\": 3000})"
      ]
    },
    {
      "cell_type": "code",
      "execution_count": null,
      "metadata": {
        "id": "rBcOgb1DbLdV"
      },
      "outputs": [],
      "source": [
        "vectorstore = Vectara(\n",
        "                vectara_customer_id=vectara_customer_id,\n",
        "                vectara_corpus_id=vectara_corpus_id,\n",
        "                vectara_api_key=vectara_api_key\n",
        "            )"
      ]
    },
    {
      "cell_type": "code",
      "execution_count": null,
      "metadata": {
        "id": "9PGeaSW6wpXm"
      },
      "outputs": [],
      "source": [
        "vectara = Vectara.from_documents(\n",
        "    docs,\n",
        "    embedding=None, #we use default vectara embedding\n",
        ")\n"
      ]
    },
    {
      "cell_type": "code",
      "execution_count": null,
      "metadata": {
        "id": "Naa9OwekKmUO"
      },
      "outputs": [],
      "source": [
        "starting_tag = \"<s>[INST]\"\n",
        "ending_tag = \"</s>[INST]\"\n",
        "prompt_template = \"\"\"You are an AI assisstant which helps the people to balance their diet by prvoding them diet plans.\n",
        "                      You need to provide the diet plans. which should include breakfast, lunch and dinner\n",
        "                  Context :{context}\n",
        "                  Question: {question}\"\"\"\n",
        "\n",
        "prompt = starting_tag + prompt_template + ending_tag\n",
        "PROMPT = PromptTemplate(template=prompt, input_variables=[\"context\",\"question\"])\n",
        "chain = RetrievalQA.from_chain_type(\n",
        "        llm = llm,\n",
        "        chain_type = \"stuff\",\n",
        "        retriever = vectara.as_retriever(),\n",
        "        input_key = \"question\",\n",
        "        chain_type_kwargs={\"prompt\": PROMPT},\n",
        "        return_source_documents = False\n",
        "    )"
      ]
    },
    {
      "cell_type": "markdown",
      "source": [
        "### Query\n",
        "User can ask diet related questions and get the appropriate answers with less hallucinated answer."
      ],
      "metadata": {
        "id": "JmkUh7PF4gV1"
      }
    },
    {
      "cell_type": "code",
      "execution_count": null,
      "metadata": {
        "id": "sKNO6RBtLo8p",
        "colab": {
          "base_uri": "https://localhost:8080/"
        },
        "outputId": "10faea7b-68ce-4e42-a6f5-e2638b2cf52e"
      },
      "outputs": [
        {
          "output_type": "stream",
          "name": "stdout",
          "text": [
            "Any diet questions or thoughts you'd like to share?  give the 25 years girl diet plan\n",
            "Based on the information provided in the context, the diet plan for a 25-year-old woman according to the Irish food-based dietary guidelines would include:\n",
            "\n",
            "1. Grains: At least 5 servings per day, preferably whole grains. One serving equals 30g of cooked cereals, 1 medium slice of bread, or 1 medium portion of pasta or rice.\n",
            "2. Fruit and vegetables: At least 7 portions per day. One portion equals approximately 80g of raw fruit or vegetables.\n",
            "3. Protein foods: At least 2 servings of protein-rich foods per day from the following sources: meat, poultry, fish, eggs, beans, pulses, nuts, and seeds. One serving equals approximately 80g cooked meat, 100g cooked fish, 2 eggs, or 100g cooked beans.\n",
            "4. Dairy: At least 3 servings per day. One serving equals approximately 200ml of milk, 100g of cheese, or 150ml of yogurt.\n",
            "5. Oil and spreads: Use sparingly. One serving equals approximately 5g (1 teaspoon) of unsaturated spreads or 1 tablespoon of olive oil.\n",
            "\n",
            "It's important to note that individual needs may vary, and it's always a good idea to consult a healthcare professional or a dietitian for personalized advice.\n",
            "\n",
            "Also, consider involving children in food shopping and preparation to make it fun and educational for them. You can find resources and tools for growing vegetables together on the Food Skills webpage.\n",
            "\n",
            "Here's a sample meal plan for a 25-year-old woman:\n",
            "\n",
            "Breakfast:\n",
            "- 1 medium slice of whole grain bread (1 serving of grains)\n",
            "- 1 banana (1 portion of fruit)\n",
            "- 1 boiled egg (1 serving of protein foods)\n",
            "\n",
            "Mid-morning snack:\n",
            "- 1 medium apple (1 portion of fruit)\n",
            "- 1 small handful of mixed nuts (1 serving of protein foods or oil and spreads)\n",
            "\n",
            "Lunch:\n",
            "- 100g cooked whole grain pasta (2 servings of grains)\n",
            "- 100g cooked lean chicken breast (1 serving of protein foods)\n",
            "- 100g steamed broccoli (1 portion of vegetables)\n",
            "\n",
            "Afternoon snack:\n",
            "- 1 medium pear (1 portion of fruit)\n",
            "- 1 small pot of hummus (1 serving of protein foods or oil and spreads)\n",
            "\n",
            "Dinner:\n",
            "- 100g cooked salmon (1 serving of protein foods and 1 serving of oily fish)\n",
            "- 150ml cooked brown rice (1 serving of grains)\n",
            "- 100g cooked carrots (1 portion of vegetables)\n",
            "- 150ml low-fat milk (1 serving of dairy)\n",
            "\n",
            "Dessert (optional):\n",
            "- 1 medium-sized banana (1 portion of fruit)\n",
            "- 1 small scoop of low-fat ice cream (1 serving of dairy)\n",
            "\n",
            "This meal plan provides a good balance of nutrient-dense foods from all the food groups, but remember to adjust portion sizes based on individual needs and preferences. Enjoy your meals and happy cooking!\n"
          ]
        }
      ],
      "source": [
        "response = chain(input(\"Any diet questions or thoughts you'd like to share?  \"))\n",
        "if \"result\" in response:\n",
        "  result = response[\"result\"]\n",
        "  parts = result.split(\"</s>[INST]\")\n",
        "  if len(parts) > 1:\n",
        "\n",
        "    answer = parts[1].strip()\n",
        "    print(answer)\n",
        "  else:\n",
        "    print(\"Not Found\")\n",
        "# response"
      ]
    },
    {
      "cell_type": "markdown",
      "source": [
        "#Hallucination Model Score\n",
        "we comapre the generated vectra base LLM query scores using HHEM model from huggingface.."
      ],
      "metadata": {
        "id": "LmpcFjo95XB5"
      }
    },
    {
      "cell_type": "code",
      "execution_count": null,
      "metadata": {
        "id": "MZtzJxzNGNwg",
        "colab": {
          "base_uri": "https://localhost:8080/"
        },
        "outputId": "6058f6a9-2ea6-49ce-8834-da3e461767f5"
      },
      "outputs": [
        {
          "output_type": "execute_result",
          "data": {
            "text/plain": [
              "array([0.7131, 0.7553, 0.7461], dtype=float32)"
            ]
          },
          "metadata": {},
          "execution_count": 30
        }
      ],
      "source": [
        "from sentence_transformers import CrossEncoder\n",
        "import numpy as np\n",
        "np.set_printoptions(suppress=True, precision=4)\n",
        "\n",
        "model = CrossEncoder('vectara/hallucination_evaluation_model')\n",
        "\n",
        "example_pairs = [\n",
        "    # diet plan of 30 years old man\n",
        "{\"LLM_vectara\":\"\"\"**Breakfast:**\n",
        "- Whole grain cereal or porridge with low-fat milk and fresh fruit (banana, berries, or apple)- A small portion of lean protein such as boiled or poached eggs, or a handful of nuts (almonds, walnuts, or cashews)\n",
        "\n",
        "**Mid-Morning Snack:**\n",
        "- A piece of fruit (apple, banana, orange, or pear) or a handful of raw vegetables (carrots, cucumber, or bell peppers) with hummus or salsa\n",
        "\n",
        "**Lunch:**\n",
        "- A balanced meal with lean protein (grilled chicken, fish, or turkey), complex carbohydrates (quinoa, brown rice, or whole grain bread), and plenty of vegetables (spinach, tomatoes, broccoli, or carrots)\n",
        "\n",
        "**Afternoon Snack:**\n",
        "- A small serving of nuts and seeds (pumpkin seeds, sunflower seeds, or a handful of mixed nuts) or a piece of fruit\n",
        "\n",
        "**Dinner:**\n",
        "- A balanced meal with lean protein, complex carbohydrates, and plenty of vegetables. Consider incorporating iron-rich foods (lean red meat, lentils, or spinach) and sources of calcium, vitamin D, and folic acid (broccoli, fortified cereals, or almonds)\n",
        "\n",
        "**Evening Snack:**\n",
        "- A small serving of fruit or a handful of raw vegetables with hummus or salsa\n",
        "\n",
        "Remember to monitor portion sizes to maintain a healthy weight and avoid excessive calorie intake. Adjust the plan according to your personal preferences and dietary needs. This diet plan is based on the Irish food pyramid and the National Food-based Dietary Guidelines.\",\n",
        "     \"LLM response\": \"The woman is playing a game resting.\"\"\",\n",
        "\n",
        "\"LLM\":\"\"\"Breakfast:\n",
        "\n",
        "Whole grain cereal or oats with milk or a dairy-free alternative\n",
        "Fresh fruits like berries or banana\n",
        "A source of protein (e.g., Greek yogurt, eggs, or nut butter)\n",
        "Mid-Morning Snack:\n",
        "\n",
        "A piece of fruit (e.g., apple or pear)\n",
        "Handful of nuts or seeds\n",
        "Lunch:\n",
        "\n",
        "Grilled chicken, fish, tofu, or legumes for protein\n",
        "Quinoa, brown rice, or sweet potatoes for complex carbohydrates\n",
        "Vegetables (colorful variety) for fiber and vitamins\n",
        "Afternoon Snack:\n",
        "\n",
        "Greek yogurt with a drizzle of honey\n",
        "Carrot or cucumber sticks with hummus\n",
        "Dinner:\n",
        "\n",
        "Lean protein (chicken, turkey, fish, or plant-based protein)\n",
        "Steamed or roasted vegetables\n",
        "Whole grains (brown rice, quinoa, or whole wheat pasta)\n",
        "Evening Snack (if hungry):\n",
        "\n",
        "A small serving of cottage cheese with pineapple or a handful of cherry tomatoes\n",
        "Hydration:\n",
        "\n",
        "Drink plenty of water throughout the day (at least 8 glasses)\n",
        "Limit sugary beverages and opt for herbal teas or infused water\n",
        "General Tips:\n",
        "\n",
        "Control portion sizes to avoid overeating.\n",
        "Limit processed foods, sugary snacks, and high-fat items.\n",
        "Aim for a colorful plate with a variety of fruits and vegetables.\n",
        "Consider consulting with a nutritionist or healthcare professional for personalized advice.\n",
        "Remember, it's essential to listen to your body's hunger and fullness cues and make adjustments based on your specific needs and preferences. Additionally, if you have any existing health conditions or dietary restrictions, it's advisable to consult with a healthcare professional or nutritionist for tailored guidance.  \"\"\"\n",
        "\n",
        "\n",
        "    },\n",
        "\n",
        "# diet plan of 50 years old man\n",
        "{\"LLM_vectara\": \"\"\"Breakfast:\n",
        "- Oatmeal made with water or unsweetened almond milk, topped with berries, walnuts, and a drizzle of honey\n",
        "- A slice of whole grain toast with avocado or peanut butter\n",
        "\n",
        "Lunch:\n",
        "- Grilled chicken or fish, served with a side of quinoa or brown rice, and steamed vegetables such as broccoli, carrots, or bell peppers\n",
        "- A small salad with mixed greens, tomatoes, cucumber, and a vinaigrette dressing\n",
        "\n",
        "Dinner:\n",
        "- Grilled or baked lean meat (beef, chicken, or fish), served with a side of steamed vegetables and a small portion of sweet potato or whole grain pasta\n",
        "- A side salad with mixed greens, tomatoes, cucumber, and a vinaigrette dressing\n",
        "\n",
        "Snacks:\n",
        "- A handful of mixed nuts or seeds\n",
        "- A piece of fruit or a small apple with a handful of almonds or peanuts\n",
        "\n",
        "This diet plan provides a good balance of heart-healthy foods, including lean proteins, whole grains, fruits, vegetables, and healthy fats. It also includes omega-3 fatty acids from sources such as walnuts, salmon, and flaxseeds, which are important for heart health. Additionally, it is low in sodium and saturated fat, which are risk factors for heart disease.\"\"\",\n",
        "\"LLM\": \"\"\"Breakfast:\n",
        "\n",
        "Whole grain toast or oatmeal\n",
        "Eggs or egg whites\n",
        "Low-fat dairy or a dairy alternative\n",
        "Berries or a piece of fruit\n",
        "Mid-Morning Snack:\n",
        "\n",
        "Greek yogurt or a small handful of nuts\n",
        "A piece of fruit, like an apple or a banana\n",
        "Lunch:\n",
        "\n",
        "Grilled chicken, fish, or lean meat\n",
        "Quinoa, brown rice, or whole wheat pasta\n",
        "Leafy green salad or a variety of colorful vegetables\n",
        "Olive oil or a light vinaigrette dressing\n",
        "Afternoon Snack:\n",
        "\n",
        "Hummus with vegetable sticks (carrots, cucumber)\n",
        "A small handful of almonds or walnuts\n",
        "Dinner:\n",
        "\n",
        "Baked or grilled fish, chicken, or tofu\n",
        "Steamed or roasted vegetables (broccoli, Brussels sprouts, sweet potatoes)\n",
        "Quinoa, barley, or another whole grain\n",
        "A side salad with a variety of greens\n",
        "Evening Snack (if hungry):\n",
        "\n",
        "Low-fat cottage cheese with fresh pineapple or a small bowl of berries\n",
        "Hydration:\n",
        "\n",
        "Drink plenty of water throughout the day (at least 8 glasses)\n",
        "Include herbal teas or infused water for variety\n",
        "General Tips:\n",
        "\n",
        "Aim for a balanced plate with a mix of lean protein, whole grains, and colorful vegetables.\n",
        "Watch portion sizes to manage calorie intake.\n",
        "Limit added sugars, processed foods, and high-fat items.\n",
        "Include foods rich in calcium and vitamin D for bone health, such as dairy, fortified plant-based milk, or leafy greens.\n",
        "Consider incorporating heart-healthy fats, such as avocados, nuts, and olive oil.\n",
        "Again, individual nutritional needs can vary, and this is a general guideline. Consultation with a healthcare professional or a registered dietitian can help create a personalized plan based on specific health conditions, dietary preferences, and lifestyle factors.\"\"\"},\n",
        "\n",
        "{\"LLM_vectara\": \"\"\" Breakfast:\n",
        "- 1 medium slice of whole grain bread (1 serving of grains)\n",
        "- 1 banana (1 portion of fruit)\n",
        "- 1 boiled egg (1 serving of protein foods)\n",
        "\n",
        "Mid-morning snack:\n",
        "- 1 medium apple (1 portion of fruit)\n",
        "- 1 small handful of mixed nuts (1 serving of protein foods or oil and spreads)\n",
        "\n",
        "Lunch:\n",
        "- 100g cooked whole grain pasta (2 servings of grains)\n",
        "- 100g cooked lean chicken breast (1 serving of protein foods)\n",
        "- 100g steamed broccoli (1 portion of vegetables)\n",
        "\n",
        "Afternoon snack:\n",
        "- 1 medium pear (1 portion of fruit)\n",
        "- 1 small pot of hummus (1 serving of protein foods or oil and spreads)\n",
        "\n",
        "Dinner:\n",
        "- 100g cooked salmon (1 serving of protein foods and 1 serving of oily fish)\n",
        "- 150ml cooked brown rice (1 serving of grains)\n",
        "- 100g cooked carrots (1 portion of vegetables)\n",
        "- 150ml low-fat milk (1 serving of dairy)\n",
        "\n",
        "Dessert (optional):\n",
        "- 1 medium-sized banana (1 portion of fruit)\n",
        "- 1 small scoop of low-fat ice cream (1 serving of dairy)\n",
        "\n",
        "This meal plan provides a good balance of nutrient-dense foods from all the food groups, but remember to adjust portion sizes based on individual needs and preferences. Enjoy your meals and happy cooking! \"\"\",\n",
        "\"LLM\":\"\"\" Breakfast:\n",
        "\n",
        "Whole grain cereal or oatmeal\n",
        "Low-fat or plant-based milk\n",
        "Fresh berries or a banana\n",
        "A source of protein like Greek yogurt or eggs\n",
        "Mid-Morning Snack:\n",
        "\n",
        "Handful of nuts (almonds, walnuts, or pistachios)\n",
        "A piece of fruit (apple, pear, or berries)\n",
        "Lunch:\n",
        "\n",
        "Grilled chicken, tofu, or beans for protein\n",
        "Quinoa, brown rice, or whole wheat wraps\n",
        "Mixed vegetables (broccoli, bell peppers, spinach)\n",
        "Olive oil or a light dressing for flavor\n",
        "Afternoon Snack:\n",
        "\n",
        "Greek yogurt with honey or a small bowl of cottage cheese\n",
        "Carrot or cucumber sticks with hummus\n",
        "Dinner:\n",
        "\n",
        "Baked or grilled fish, lean meat, or plant-based protein\n",
        "Sweet potatoes or whole grain pasta/rice\n",
        "Steamed or roasted vegetables (asparagus, Brussels sprouts, or zucchini)\n",
        "A side salad with a variety of colorful veggies\n",
        "Evening Snack (if hungry):\n",
        "\n",
        "A small bowl of mixed berries or a piece of dark chocolate\n",
        "Herbal tea or warm milk with a sprinkle of cinnamon\n",
        "Hydration:\n",
        "\n",
        "Drink plenty of water throughout the day (at least 8 glasses)\n",
        "Include herbal teas or infused water for variety\n",
        "General Tips:\n",
        "\n",
        "Aim for a balanced diet with a variety of food groups.\n",
        "Watch portion sizes to maintain a healthy weight.\n",
        "Limit processed foods, sugary snacks, and high-fat items.\n",
        "Include calcium-rich foods like dairy or fortified plant-based milk.\n",
        "Ensure adequate intake of iron from sources like lean meat, beans, and dark leafy greens. \"\"\"}\n",
        "\n",
        "]\n",
        "\n",
        "\n",
        "scores = model.predict(\n",
        "    [ [p[\"LLM_vectara\"], p[\"LLM\"]] for p in example_pairs ]\n",
        ")\n",
        "\n",
        "scores"
      ]
    }
  ],
  "metadata": {
    "colab": {
      "provenance": []
    },
    "kernelspec": {
      "display_name": "Python 3",
      "name": "python3"
    },
    "language_info": {
      "name": "python"
    }
  },
  "nbformat": 4,
  "nbformat_minor": 0
}